{
  "nbformat": 4,
  "nbformat_minor": 0,
  "metadata": {
    "colab": {
      "provenance": [],
      "mount_file_id": "18WfRBnqRTxj9HhQrscBUhbTbOnL71kfx",
      "authorship_tag": "ABX9TyPcTQWDrSLIVFbwB+n1VZ9G",
      "include_colab_link": true
    },
    "kernelspec": {
      "name": "python3",
      "display_name": "Python 3"
    },
    "language_info": {
      "name": "python"
    }
  },
  "cells": [
    {
      "cell_type": "markdown",
      "metadata": {
        "id": "view-in-github",
        "colab_type": "text"
      },
      "source": [
        "<a href=\"https://colab.research.google.com/github/GinuraAdikari/BankChurn/blob/main/ANN.ipynb\" target=\"_parent\"><img src=\"https://colab.research.google.com/assets/colab-badge.svg\" alt=\"Open In Colab\"/></a>"
      ]
    },
    {
      "cell_type": "code",
      "source": [
        "import pandas as pd\n",
        "import numpy as np\n",
        "import matplotlib.pyplot as plt\n",
        "from sklearn.preprocessing import RobustScaler\n",
        "from sklearn.preprocessing import StandardScaler\n",
        "from sklearn.metrics import classification_report, confusion_matrix, f1_score\n",
        "import seaborn as sns\n",
        "\n",
        "\n",
        "# Load the dataset\n",
        "df = pd.read_csv('/content/drive/MyDrive/Colab Notebooks/MLcw/final_dataseto.csv')\n",
        "\n",
        "# Display the first few rows\n",
        "print(df.head())\n",
        "print(df.info())"
      ],
      "metadata": {
        "id": "uG8bB2Zn0Z07"
      },
      "execution_count": null,
      "outputs": []
    },
    {
      "cell_type": "code",
      "source": [
        "Q1 = df['age'].quantile(0.25)\n",
        "Q3 = df['age'].quantile(0.75)\n",
        "IQR = Q3 - Q1\n",
        "lower_bound = Q1 - 1.5 * IQR\n",
        "upper_bound = Q3 + 1.5 * IQR\n",
        "\n",
        "# Counting outliers\n",
        "outliers_below = df[df['age'] < lower_bound].shape[0]\n",
        "outliers_above = df[df['age'] > upper_bound].shape[0]\n",
        "total_outliers = outliers_below + outliers_above\n",
        "\n",
        "print(f\"Age Outliers Below: {outliers_below}, Above: {outliers_above}, Total: {total_outliers}\")\n",
        "print(lower_bound)\n",
        "print(upper_bound)\n"
      ],
      "metadata": {
        "colab": {
          "base_uri": "https://localhost:8080/"
        },
        "id": "JU6QCBbh-gC0",
        "outputId": "559ae551-1a08-4f61-8941-8157673ea24d"
      },
      "execution_count": 2,
      "outputs": [
        {
          "output_type": "stream",
          "name": "stdout",
          "text": [
            "Age Outliers Below: 0, Above: 468, Total: 468\n",
            "9.5\n",
            "69.5\n"
          ]
        }
      ]
    },
    {
      "cell_type": "code",
      "source": [
        "#df['age'] = df['age'].clip(lower=lower_bound, upper=upper_bound)"
      ],
      "metadata": {
        "id": "jJelyhUD-Nvt"
      },
      "execution_count": 3,
      "outputs": []
    },
    {
      "cell_type": "code",
      "source": [
        "df.head()"
      ],
      "metadata": {
        "colab": {
          "base_uri": "https://localhost:8080/",
          "height": 273
        },
        "id": "PwA9wyNV-srt",
        "outputId": "4bb0ec19-ac11-40dc-ecd5-a861112f4bd1"
      },
      "execution_count": 3,
      "outputs": [
        {
          "output_type": "execute_result",
          "data": {
            "text/plain": [
              "   Unnamed: 0  age  campaign  cons.price.idx  cons.conf.idx  y  \\\n",
              "0           0   56         1          93.994          -36.4  0   \n",
              "1           1   57         1          93.994          -36.4  0   \n",
              "2           2   37         1          93.994          -36.4  0   \n",
              "3           3   40         1          93.994          -36.4  0   \n",
              "4           4   56         1          93.994          -36.4  0   \n",
              "\n",
              "   contact_recency_frequency  job_grouped_high_end  job_grouped_service  \\\n",
              "0                        0.0                 False                 True   \n",
              "1                        0.0                 False                 True   \n",
              "2                        0.0                 False                 True   \n",
              "3                        0.0                 False                False   \n",
              "4                        0.0                 False                 True   \n",
              "\n",
              "   job_grouped_technical  ...  month_grouped_Q2  month_grouped_Q3  \\\n",
              "0                  False  ...              True             False   \n",
              "1                  False  ...              True             False   \n",
              "2                  False  ...              True             False   \n",
              "3                   True  ...              True             False   \n",
              "4                  False  ...              True             False   \n",
              "\n",
              "   month_grouped_Q4  day_of_week_mon  day_of_week_thu  day_of_week_tue  \\\n",
              "0             False             True            False            False   \n",
              "1             False             True            False            False   \n",
              "2             False             True            False            False   \n",
              "3             False             True            False            False   \n",
              "4             False             True            False            False   \n",
              "\n",
              "   day_of_week_wed  poutcome_nonexistent  poutcome_success  combined_feature  \n",
              "0            False                  True             False          1732.319  \n",
              "1            False                  True             False          1732.319  \n",
              "2            False                  True             False          1732.319  \n",
              "3            False                  True             False          1732.319  \n",
              "4            False                  True             False          1732.319  \n",
              "\n",
              "[5 rows x 33 columns]"
            ],
            "text/html": [
              "\n",
              "  <div id=\"df-a9dedc85-6f69-4a87-b7be-5df5784c63e5\" class=\"colab-df-container\">\n",
              "    <div>\n",
              "<style scoped>\n",
              "    .dataframe tbody tr th:only-of-type {\n",
              "        vertical-align: middle;\n",
              "    }\n",
              "\n",
              "    .dataframe tbody tr th {\n",
              "        vertical-align: top;\n",
              "    }\n",
              "\n",
              "    .dataframe thead th {\n",
              "        text-align: right;\n",
              "    }\n",
              "</style>\n",
              "<table border=\"1\" class=\"dataframe\">\n",
              "  <thead>\n",
              "    <tr style=\"text-align: right;\">\n",
              "      <th></th>\n",
              "      <th>Unnamed: 0</th>\n",
              "      <th>age</th>\n",
              "      <th>campaign</th>\n",
              "      <th>cons.price.idx</th>\n",
              "      <th>cons.conf.idx</th>\n",
              "      <th>y</th>\n",
              "      <th>contact_recency_frequency</th>\n",
              "      <th>job_grouped_high_end</th>\n",
              "      <th>job_grouped_service</th>\n",
              "      <th>job_grouped_technical</th>\n",
              "      <th>...</th>\n",
              "      <th>month_grouped_Q2</th>\n",
              "      <th>month_grouped_Q3</th>\n",
              "      <th>month_grouped_Q4</th>\n",
              "      <th>day_of_week_mon</th>\n",
              "      <th>day_of_week_thu</th>\n",
              "      <th>day_of_week_tue</th>\n",
              "      <th>day_of_week_wed</th>\n",
              "      <th>poutcome_nonexistent</th>\n",
              "      <th>poutcome_success</th>\n",
              "      <th>combined_feature</th>\n",
              "    </tr>\n",
              "  </thead>\n",
              "  <tbody>\n",
              "    <tr>\n",
              "      <th>0</th>\n",
              "      <td>0</td>\n",
              "      <td>56</td>\n",
              "      <td>1</td>\n",
              "      <td>93.994</td>\n",
              "      <td>-36.4</td>\n",
              "      <td>0</td>\n",
              "      <td>0.0</td>\n",
              "      <td>False</td>\n",
              "      <td>True</td>\n",
              "      <td>False</td>\n",
              "      <td>...</td>\n",
              "      <td>True</td>\n",
              "      <td>False</td>\n",
              "      <td>False</td>\n",
              "      <td>True</td>\n",
              "      <td>False</td>\n",
              "      <td>False</td>\n",
              "      <td>False</td>\n",
              "      <td>True</td>\n",
              "      <td>False</td>\n",
              "      <td>1732.319</td>\n",
              "    </tr>\n",
              "    <tr>\n",
              "      <th>1</th>\n",
              "      <td>1</td>\n",
              "      <td>57</td>\n",
              "      <td>1</td>\n",
              "      <td>93.994</td>\n",
              "      <td>-36.4</td>\n",
              "      <td>0</td>\n",
              "      <td>0.0</td>\n",
              "      <td>False</td>\n",
              "      <td>True</td>\n",
              "      <td>False</td>\n",
              "      <td>...</td>\n",
              "      <td>True</td>\n",
              "      <td>False</td>\n",
              "      <td>False</td>\n",
              "      <td>True</td>\n",
              "      <td>False</td>\n",
              "      <td>False</td>\n",
              "      <td>False</td>\n",
              "      <td>True</td>\n",
              "      <td>False</td>\n",
              "      <td>1732.319</td>\n",
              "    </tr>\n",
              "    <tr>\n",
              "      <th>2</th>\n",
              "      <td>2</td>\n",
              "      <td>37</td>\n",
              "      <td>1</td>\n",
              "      <td>93.994</td>\n",
              "      <td>-36.4</td>\n",
              "      <td>0</td>\n",
              "      <td>0.0</td>\n",
              "      <td>False</td>\n",
              "      <td>True</td>\n",
              "      <td>False</td>\n",
              "      <td>...</td>\n",
              "      <td>True</td>\n",
              "      <td>False</td>\n",
              "      <td>False</td>\n",
              "      <td>True</td>\n",
              "      <td>False</td>\n",
              "      <td>False</td>\n",
              "      <td>False</td>\n",
              "      <td>True</td>\n",
              "      <td>False</td>\n",
              "      <td>1732.319</td>\n",
              "    </tr>\n",
              "    <tr>\n",
              "      <th>3</th>\n",
              "      <td>3</td>\n",
              "      <td>40</td>\n",
              "      <td>1</td>\n",
              "      <td>93.994</td>\n",
              "      <td>-36.4</td>\n",
              "      <td>0</td>\n",
              "      <td>0.0</td>\n",
              "      <td>False</td>\n",
              "      <td>False</td>\n",
              "      <td>True</td>\n",
              "      <td>...</td>\n",
              "      <td>True</td>\n",
              "      <td>False</td>\n",
              "      <td>False</td>\n",
              "      <td>True</td>\n",
              "      <td>False</td>\n",
              "      <td>False</td>\n",
              "      <td>False</td>\n",
              "      <td>True</td>\n",
              "      <td>False</td>\n",
              "      <td>1732.319</td>\n",
              "    </tr>\n",
              "    <tr>\n",
              "      <th>4</th>\n",
              "      <td>4</td>\n",
              "      <td>56</td>\n",
              "      <td>1</td>\n",
              "      <td>93.994</td>\n",
              "      <td>-36.4</td>\n",
              "      <td>0</td>\n",
              "      <td>0.0</td>\n",
              "      <td>False</td>\n",
              "      <td>True</td>\n",
              "      <td>False</td>\n",
              "      <td>...</td>\n",
              "      <td>True</td>\n",
              "      <td>False</td>\n",
              "      <td>False</td>\n",
              "      <td>True</td>\n",
              "      <td>False</td>\n",
              "      <td>False</td>\n",
              "      <td>False</td>\n",
              "      <td>True</td>\n",
              "      <td>False</td>\n",
              "      <td>1732.319</td>\n",
              "    </tr>\n",
              "  </tbody>\n",
              "</table>\n",
              "<p>5 rows × 33 columns</p>\n",
              "</div>\n",
              "    <div class=\"colab-df-buttons\">\n",
              "\n",
              "  <div class=\"colab-df-container\">\n",
              "    <button class=\"colab-df-convert\" onclick=\"convertToInteractive('df-a9dedc85-6f69-4a87-b7be-5df5784c63e5')\"\n",
              "            title=\"Convert this dataframe to an interactive table.\"\n",
              "            style=\"display:none;\">\n",
              "\n",
              "  <svg xmlns=\"http://www.w3.org/2000/svg\" height=\"24px\" viewBox=\"0 -960 960 960\">\n",
              "    <path d=\"M120-120v-720h720v720H120Zm60-500h600v-160H180v160Zm220 220h160v-160H400v160Zm0 220h160v-160H400v160ZM180-400h160v-160H180v160Zm440 0h160v-160H620v160ZM180-180h160v-160H180v160Zm440 0h160v-160H620v160Z\"/>\n",
              "  </svg>\n",
              "    </button>\n",
              "\n",
              "  <style>\n",
              "    .colab-df-container {\n",
              "      display:flex;\n",
              "      gap: 12px;\n",
              "    }\n",
              "\n",
              "    .colab-df-convert {\n",
              "      background-color: #E8F0FE;\n",
              "      border: none;\n",
              "      border-radius: 50%;\n",
              "      cursor: pointer;\n",
              "      display: none;\n",
              "      fill: #1967D2;\n",
              "      height: 32px;\n",
              "      padding: 0 0 0 0;\n",
              "      width: 32px;\n",
              "    }\n",
              "\n",
              "    .colab-df-convert:hover {\n",
              "      background-color: #E2EBFA;\n",
              "      box-shadow: 0px 1px 2px rgba(60, 64, 67, 0.3), 0px 1px 3px 1px rgba(60, 64, 67, 0.15);\n",
              "      fill: #174EA6;\n",
              "    }\n",
              "\n",
              "    .colab-df-buttons div {\n",
              "      margin-bottom: 4px;\n",
              "    }\n",
              "\n",
              "    [theme=dark] .colab-df-convert {\n",
              "      background-color: #3B4455;\n",
              "      fill: #D2E3FC;\n",
              "    }\n",
              "\n",
              "    [theme=dark] .colab-df-convert:hover {\n",
              "      background-color: #434B5C;\n",
              "      box-shadow: 0px 1px 3px 1px rgba(0, 0, 0, 0.15);\n",
              "      filter: drop-shadow(0px 1px 2px rgba(0, 0, 0, 0.3));\n",
              "      fill: #FFFFFF;\n",
              "    }\n",
              "  </style>\n",
              "\n",
              "    <script>\n",
              "      const buttonEl =\n",
              "        document.querySelector('#df-a9dedc85-6f69-4a87-b7be-5df5784c63e5 button.colab-df-convert');\n",
              "      buttonEl.style.display =\n",
              "        google.colab.kernel.accessAllowed ? 'block' : 'none';\n",
              "\n",
              "      async function convertToInteractive(key) {\n",
              "        const element = document.querySelector('#df-a9dedc85-6f69-4a87-b7be-5df5784c63e5');\n",
              "        const dataTable =\n",
              "          await google.colab.kernel.invokeFunction('convertToInteractive',\n",
              "                                                    [key], {});\n",
              "        if (!dataTable) return;\n",
              "\n",
              "        const docLinkHtml = 'Like what you see? Visit the ' +\n",
              "          '<a target=\"_blank\" href=https://colab.research.google.com/notebooks/data_table.ipynb>data table notebook</a>'\n",
              "          + ' to learn more about interactive tables.';\n",
              "        element.innerHTML = '';\n",
              "        dataTable['output_type'] = 'display_data';\n",
              "        await google.colab.output.renderOutput(dataTable, element);\n",
              "        const docLink = document.createElement('div');\n",
              "        docLink.innerHTML = docLinkHtml;\n",
              "        element.appendChild(docLink);\n",
              "      }\n",
              "    </script>\n",
              "  </div>\n",
              "\n",
              "\n",
              "<div id=\"df-4d59a157-eb87-4355-a660-4328a02548b2\">\n",
              "  <button class=\"colab-df-quickchart\" onclick=\"quickchart('df-4d59a157-eb87-4355-a660-4328a02548b2')\"\n",
              "            title=\"Suggest charts\"\n",
              "            style=\"display:none;\">\n",
              "\n",
              "<svg xmlns=\"http://www.w3.org/2000/svg\" height=\"24px\"viewBox=\"0 0 24 24\"\n",
              "     width=\"24px\">\n",
              "    <g>\n",
              "        <path d=\"M19 3H5c-1.1 0-2 .9-2 2v14c0 1.1.9 2 2 2h14c1.1 0 2-.9 2-2V5c0-1.1-.9-2-2-2zM9 17H7v-7h2v7zm4 0h-2V7h2v10zm4 0h-2v-4h2v4z\"/>\n",
              "    </g>\n",
              "</svg>\n",
              "  </button>\n",
              "\n",
              "<style>\n",
              "  .colab-df-quickchart {\n",
              "      --bg-color: #E8F0FE;\n",
              "      --fill-color: #1967D2;\n",
              "      --hover-bg-color: #E2EBFA;\n",
              "      --hover-fill-color: #174EA6;\n",
              "      --disabled-fill-color: #AAA;\n",
              "      --disabled-bg-color: #DDD;\n",
              "  }\n",
              "\n",
              "  [theme=dark] .colab-df-quickchart {\n",
              "      --bg-color: #3B4455;\n",
              "      --fill-color: #D2E3FC;\n",
              "      --hover-bg-color: #434B5C;\n",
              "      --hover-fill-color: #FFFFFF;\n",
              "      --disabled-bg-color: #3B4455;\n",
              "      --disabled-fill-color: #666;\n",
              "  }\n",
              "\n",
              "  .colab-df-quickchart {\n",
              "    background-color: var(--bg-color);\n",
              "    border: none;\n",
              "    border-radius: 50%;\n",
              "    cursor: pointer;\n",
              "    display: none;\n",
              "    fill: var(--fill-color);\n",
              "    height: 32px;\n",
              "    padding: 0;\n",
              "    width: 32px;\n",
              "  }\n",
              "\n",
              "  .colab-df-quickchart:hover {\n",
              "    background-color: var(--hover-bg-color);\n",
              "    box-shadow: 0 1px 2px rgba(60, 64, 67, 0.3), 0 1px 3px 1px rgba(60, 64, 67, 0.15);\n",
              "    fill: var(--button-hover-fill-color);\n",
              "  }\n",
              "\n",
              "  .colab-df-quickchart-complete:disabled,\n",
              "  .colab-df-quickchart-complete:disabled:hover {\n",
              "    background-color: var(--disabled-bg-color);\n",
              "    fill: var(--disabled-fill-color);\n",
              "    box-shadow: none;\n",
              "  }\n",
              "\n",
              "  .colab-df-spinner {\n",
              "    border: 2px solid var(--fill-color);\n",
              "    border-color: transparent;\n",
              "    border-bottom-color: var(--fill-color);\n",
              "    animation:\n",
              "      spin 1s steps(1) infinite;\n",
              "  }\n",
              "\n",
              "  @keyframes spin {\n",
              "    0% {\n",
              "      border-color: transparent;\n",
              "      border-bottom-color: var(--fill-color);\n",
              "      border-left-color: var(--fill-color);\n",
              "    }\n",
              "    20% {\n",
              "      border-color: transparent;\n",
              "      border-left-color: var(--fill-color);\n",
              "      border-top-color: var(--fill-color);\n",
              "    }\n",
              "    30% {\n",
              "      border-color: transparent;\n",
              "      border-left-color: var(--fill-color);\n",
              "      border-top-color: var(--fill-color);\n",
              "      border-right-color: var(--fill-color);\n",
              "    }\n",
              "    40% {\n",
              "      border-color: transparent;\n",
              "      border-right-color: var(--fill-color);\n",
              "      border-top-color: var(--fill-color);\n",
              "    }\n",
              "    60% {\n",
              "      border-color: transparent;\n",
              "      border-right-color: var(--fill-color);\n",
              "    }\n",
              "    80% {\n",
              "      border-color: transparent;\n",
              "      border-right-color: var(--fill-color);\n",
              "      border-bottom-color: var(--fill-color);\n",
              "    }\n",
              "    90% {\n",
              "      border-color: transparent;\n",
              "      border-bottom-color: var(--fill-color);\n",
              "    }\n",
              "  }\n",
              "</style>\n",
              "\n",
              "  <script>\n",
              "    async function quickchart(key) {\n",
              "      const quickchartButtonEl =\n",
              "        document.querySelector('#' + key + ' button');\n",
              "      quickchartButtonEl.disabled = true;  // To prevent multiple clicks.\n",
              "      quickchartButtonEl.classList.add('colab-df-spinner');\n",
              "      try {\n",
              "        const charts = await google.colab.kernel.invokeFunction(\n",
              "            'suggestCharts', [key], {});\n",
              "      } catch (error) {\n",
              "        console.error('Error during call to suggestCharts:', error);\n",
              "      }\n",
              "      quickchartButtonEl.classList.remove('colab-df-spinner');\n",
              "      quickchartButtonEl.classList.add('colab-df-quickchart-complete');\n",
              "    }\n",
              "    (() => {\n",
              "      let quickchartButtonEl =\n",
              "        document.querySelector('#df-4d59a157-eb87-4355-a660-4328a02548b2 button');\n",
              "      quickchartButtonEl.style.display =\n",
              "        google.colab.kernel.accessAllowed ? 'block' : 'none';\n",
              "    })();\n",
              "  </script>\n",
              "</div>\n",
              "\n",
              "    </div>\n",
              "  </div>\n"
            ],
            "application/vnd.google.colaboratory.intrinsic+json": {
              "type": "dataframe",
              "variable_name": "df"
            }
          },
          "metadata": {},
          "execution_count": 3
        }
      ]
    },
    {
      "cell_type": "code",
      "source": [
        "df.shape"
      ],
      "metadata": {
        "colab": {
          "base_uri": "https://localhost:8080/"
        },
        "id": "Arn8Kexo-vPm",
        "outputId": "e69f9315-48c7-4036-a5ec-0f9f94068c8a"
      },
      "execution_count": 4,
      "outputs": [
        {
          "output_type": "execute_result",
          "data": {
            "text/plain": [
              "(41176, 33)"
            ]
          },
          "metadata": {},
          "execution_count": 4
        }
      ]
    },
    {
      "cell_type": "code",
      "source": [
        "\n",
        "# Columns to scale\n",
        "numerical_columns_new = ['age', 'campaign','contact_recency_frequency','cons.price.idx', 'cons.conf.idx','combined_feature']\n",
        "\n",
        "scaler = StandardScaler()\n",
        "df[numerical_columns_new] = scaler.fit_transform(df[numerical_columns_new])"
      ],
      "metadata": {
        "id": "g2I9aO7-_Ird"
      },
      "execution_count": 6,
      "outputs": []
    },
    {
      "cell_type": "code",
      "source": [
        "\n",
        "# Columns to scale\n",
        "numerical_columns_new = ['age', 'campaign', 'contact_recency_frequency',\n",
        "                         'cons.price.idx', 'cons.conf.idx', 'combined_feature']\n",
        "\n",
        "# Initialize RobustScaler\n",
        "scaler = RobustScaler()\n",
        "\n",
        "# Apply RobustScaler to the selected columns\n",
        "df[numerical_columns_new] = scaler.fit_transform(df[numerical_columns_new])"
      ],
      "metadata": {
        "id": "0Jl3V1PzEber"
      },
      "execution_count": 2,
      "outputs": []
    },
    {
      "cell_type": "code",
      "source": [
        "!pip install imblearn"
      ],
      "metadata": {
        "colab": {
          "base_uri": "https://localhost:8080/"
        },
        "id": "qZ3GaApbZGYv",
        "outputId": "26d8f564-1f02-4580-bcee-6e3ed2e8efed"
      },
      "execution_count": 3,
      "outputs": [
        {
          "output_type": "stream",
          "name": "stdout",
          "text": [
            "Collecting imblearn\n",
            "  Downloading imblearn-0.0-py2.py3-none-any.whl.metadata (355 bytes)\n",
            "Collecting imbalanced-learn (from imblearn)\n",
            "  Downloading imbalanced_learn-0.13.0-py3-none-any.whl.metadata (8.8 kB)\n",
            "Requirement already satisfied: numpy<3,>=1.24.3 in /usr/local/lib/python3.10/dist-packages (from imbalanced-learn->imblearn) (1.26.4)\n",
            "Requirement already satisfied: scipy<2,>=1.10.1 in /usr/local/lib/python3.10/dist-packages (from imbalanced-learn->imblearn) (1.13.1)\n",
            "Requirement already satisfied: scikit-learn<2,>=1.3.2 in /usr/local/lib/python3.10/dist-packages (from imbalanced-learn->imblearn) (1.6.0)\n",
            "Collecting sklearn-compat<1,>=0.1 (from imbalanced-learn->imblearn)\n",
            "  Downloading sklearn_compat-0.1.3-py3-none-any.whl.metadata (18 kB)\n",
            "Requirement already satisfied: joblib<2,>=1.1.1 in /usr/local/lib/python3.10/dist-packages (from imbalanced-learn->imblearn) (1.4.2)\n",
            "Requirement already satisfied: threadpoolctl<4,>=2.0.0 in /usr/local/lib/python3.10/dist-packages (from imbalanced-learn->imblearn) (3.5.0)\n",
            "Downloading imblearn-0.0-py2.py3-none-any.whl (1.9 kB)\n",
            "Downloading imbalanced_learn-0.13.0-py3-none-any.whl (238 kB)\n",
            "\u001b[2K   \u001b[90m━━━━━━━━━━━━━━━━━━━━━━━━━━━━━━━━━━━━━━━━\u001b[0m \u001b[32m238.4/238.4 kB\u001b[0m \u001b[31m5.1 MB/s\u001b[0m eta \u001b[36m0:00:00\u001b[0m\n",
            "\u001b[?25hDownloading sklearn_compat-0.1.3-py3-none-any.whl (18 kB)\n",
            "Installing collected packages: sklearn-compat, imbalanced-learn, imblearn\n",
            "Successfully installed imbalanced-learn-0.13.0 imblearn-0.0 sklearn-compat-0.1.3\n"
          ]
        }
      ]
    },
    {
      "cell_type": "code",
      "source": [
        "import pandas as pd\n",
        "import numpy as np\n",
        "from sklearn.model_selection import train_test_split\n",
        "from sklearn.preprocessing import StandardScaler\n",
        "from imblearn.over_sampling import SMOTE  # Import SMOTE\n",
        "from tensorflow.keras.models import Sequential\n",
        "from tensorflow.keras.layers import Dense, Dropout\n",
        "from tensorflow.keras.optimizers import Adam\n",
        "from tensorflow.keras.metrics import AUC"
      ],
      "metadata": {
        "id": "vsb8N6kM1BoC"
      },
      "execution_count": 5,
      "outputs": []
    },
    {
      "cell_type": "code",
      "source": [
        "# Features and target\n",
        "X = df.drop(columns=['Unnamed: 0', 'y'])  # Drop unnecessary columns\n",
        "y = df['y']\n",
        "\n",
        "# Train-test split\n",
        "X_train, X_test, y_train, y_test = train_test_split(X, y, test_size=0.3, random_state=42, stratify=y)\n",
        "\n",
        "# Apply SMOTE to handle class imbalance\n",
        "smote = SMOTE(sampling_strategy = 'auto' , random_state=42)\n",
        "X_train_resampled, y_train_resampled = smote.fit_resample(X_train, y_train)\n"
      ],
      "metadata": {
        "colab": {
          "base_uri": "https://localhost:8080/"
        },
        "id": "VkNYC0RjcCd7",
        "outputId": "34d33414-370c-4b6d-f571-44198d167f31"
      },
      "execution_count": 7,
      "outputs": [
        {
          "output_type": "stream",
          "name": "stderr",
          "text": [
            "/usr/local/lib/python3.10/dist-packages/sklearn/base.py:474: FutureWarning: `BaseEstimator._validate_data` is deprecated in 1.6 and will be removed in 1.7. Use `sklearn.utils.validation.validate_data` instead. This function becomes public and is part of the scikit-learn developer API.\n",
            "  warnings.warn(\n",
            "/usr/local/lib/python3.10/dist-packages/sklearn/utils/_tags.py:354: FutureWarning: The SMOTE or classes from which it inherits use `_get_tags` and `_more_tags`. Please define the `__sklearn_tags__` method, or inherit from `sklearn.base.BaseEstimator` and/or other appropriate mixins such as `sklearn.base.TransformerMixin`, `sklearn.base.ClassifierMixin`, `sklearn.base.RegressorMixin`, and `sklearn.base.OutlierMixin`. From scikit-learn 1.7, not defining `__sklearn_tags__` will raise an error.\n",
            "  warnings.warn(\n"
          ]
        }
      ]
    },
    {
      "cell_type": "code",
      "source": [
        "!pip install keras-tuner"
      ],
      "metadata": {
        "colab": {
          "base_uri": "https://localhost:8080/"
        },
        "id": "DBmJLlQqcSFn",
        "outputId": "a24816c1-8d71-4a25-fb4b-6c8c143dafba"
      },
      "execution_count": 5,
      "outputs": [
        {
          "output_type": "stream",
          "name": "stdout",
          "text": [
            "Collecting keras-tuner\n",
            "  Downloading keras_tuner-1.4.7-py3-none-any.whl.metadata (5.4 kB)\n",
            "Requirement already satisfied: keras in /usr/local/lib/python3.10/dist-packages (from keras-tuner) (3.5.0)\n",
            "Requirement already satisfied: packaging in /usr/local/lib/python3.10/dist-packages (from keras-tuner) (24.2)\n",
            "Requirement already satisfied: requests in /usr/local/lib/python3.10/dist-packages (from keras-tuner) (2.32.3)\n",
            "Collecting kt-legacy (from keras-tuner)\n",
            "  Downloading kt_legacy-1.0.5-py3-none-any.whl.metadata (221 bytes)\n",
            "Requirement already satisfied: absl-py in /usr/local/lib/python3.10/dist-packages (from keras->keras-tuner) (1.4.0)\n",
            "Requirement already satisfied: numpy in /usr/local/lib/python3.10/dist-packages (from keras->keras-tuner) (1.26.4)\n",
            "Requirement already satisfied: rich in /usr/local/lib/python3.10/dist-packages (from keras->keras-tuner) (13.9.4)\n",
            "Requirement already satisfied: namex in /usr/local/lib/python3.10/dist-packages (from keras->keras-tuner) (0.0.8)\n",
            "Requirement already satisfied: h5py in /usr/local/lib/python3.10/dist-packages (from keras->keras-tuner) (3.12.1)\n",
            "Requirement already satisfied: optree in /usr/local/lib/python3.10/dist-packages (from keras->keras-tuner) (0.13.1)\n",
            "Requirement already satisfied: ml-dtypes in /usr/local/lib/python3.10/dist-packages (from keras->keras-tuner) (0.4.1)\n",
            "Requirement already satisfied: charset-normalizer<4,>=2 in /usr/local/lib/python3.10/dist-packages (from requests->keras-tuner) (3.4.0)\n",
            "Requirement already satisfied: idna<4,>=2.5 in /usr/local/lib/python3.10/dist-packages (from requests->keras-tuner) (3.10)\n",
            "Requirement already satisfied: urllib3<3,>=1.21.1 in /usr/local/lib/python3.10/dist-packages (from requests->keras-tuner) (2.2.3)\n",
            "Requirement already satisfied: certifi>=2017.4.17 in /usr/local/lib/python3.10/dist-packages (from requests->keras-tuner) (2024.12.14)\n",
            "Requirement already satisfied: typing-extensions>=4.5.0 in /usr/local/lib/python3.10/dist-packages (from optree->keras->keras-tuner) (4.12.2)\n",
            "Requirement already satisfied: markdown-it-py>=2.2.0 in /usr/local/lib/python3.10/dist-packages (from rich->keras->keras-tuner) (3.0.0)\n",
            "Requirement already satisfied: pygments<3.0.0,>=2.13.0 in /usr/local/lib/python3.10/dist-packages (from rich->keras->keras-tuner) (2.18.0)\n",
            "Requirement already satisfied: mdurl~=0.1 in /usr/local/lib/python3.10/dist-packages (from markdown-it-py>=2.2.0->rich->keras->keras-tuner) (0.1.2)\n",
            "Downloading keras_tuner-1.4.7-py3-none-any.whl (129 kB)\n",
            "\u001b[2K   \u001b[90m━━━━━━━━━━━━━━━━━━━━━━━━━━━━━━━━━━━━━━━━\u001b[0m \u001b[32m129.1/129.1 kB\u001b[0m \u001b[31m8.3 MB/s\u001b[0m eta \u001b[36m0:00:00\u001b[0m\n",
            "\u001b[?25hDownloading kt_legacy-1.0.5-py3-none-any.whl (9.6 kB)\n",
            "Installing collected packages: kt-legacy, keras-tuner\n",
            "Successfully installed keras-tuner-1.4.7 kt-legacy-1.0.5\n"
          ]
        }
      ]
    },
    {
      "cell_type": "markdown",
      "source": [
        "# Hyperparameter Tuning"
      ],
      "metadata": {
        "id": "QgFt-nM6HTeu"
      }
    },
    {
      "cell_type": "code",
      "source": [
        "import keras_tuner as kt\n",
        "import tensorflow as tf\n",
        "from tensorflow.keras.layers import LeakyReLU\n",
        "\n",
        "# Define the model building function for hyperparameter tuning\n",
        "def build_model(hp):\n",
        "    model = Sequential()\n",
        "    model.add(Dense(units=hp.Int('units_layer1', min_value=64, max_value=256, step=32),\n",
        "                    input_dim=X_train.shape[1]))\n",
        "    model.add(LeakyReLU(alpha=0.01))\n",
        "    model.add(Dropout(rate=hp.Float('dropout_layer1', min_value=0.1, max_value=0.5, step=0.1)))\n",
        "\n",
        "    model.add(Dense(units=hp.Int('units_layer2', min_value=32, max_value=128, step=16)))\n",
        "    model.add(LeakyReLU(alpha=0.01))\n",
        "    model.add(Dropout(rate=hp.Float('dropout_layer2', min_value=0.1, max_value=0.5, step=0.1)))\n",
        "\n",
        "    model.add(Dense(1, activation='sigmoid'))\n",
        "\n",
        "    model.compile(optimizer=Adam(learning_rate=hp.Choice('learning_rate', values=[0.001, 0.0005, 0.0001])),\n",
        "                  loss='binary_crossentropy',\n",
        "                  metrics=['accuracy', AUC()])\n",
        "    return model\n",
        "\n",
        "# Initialize the tuner\n",
        "tuner = kt.Hyperband(\n",
        "    build_model,\n",
        "    objective='val_accuracy',  # Optimize for validation accuracy\n",
        "    max_epochs=30,\n",
        "    factor=3,\n",
        "    directory='my_dir',\n",
        "    project_name='ann_hyperparameter_tuning'\n",
        ")\n",
        "\n",
        "# Define the callback for early stopping\n",
        "early_stop = tf.keras.callbacks.EarlyStopping(monitor='val_loss', patience=5, restore_best_weights=True)\n",
        "\n",
        "# Run the hyperparameter search\n",
        "tuner.search(X_train_resampled, y_train_resampled,\n",
        "             epochs=30,\n",
        "             validation_data=(X_test, y_test),\n",
        "             callbacks=[early_stop],\n",
        "             batch_size=32)\n",
        "\n",
        "# Get the optimal hyperparameters\n",
        "best_hps = tuner.get_best_hyperparameters(num_trials=1)[0]\n",
        "\n",
        "print(f\"\"\"\n",
        "Optimal number of units in the first dense layer: {best_hps.get('units_layer1')}\n",
        "Optimal dropout rate for the first dense layer: {best_hps.get('dropout_layer1')}\n",
        "Optimal number of units in the second dense layer: {best_hps.get('units_layer2')}\n",
        "Optimal dropout rate for the second dense layer: {best_hps.get('dropout_layer2')}\n",
        "Optimal learning rate: {best_hps.get('learning_rate')}\n",
        "\"\"\")\n",
        "\n",
        "# Build the model with the best hyperparameters\n",
        "best_model = tuner.hypermodel.build(best_hps)\n",
        "\n",
        "# Train the best model\n",
        "history = best_model.fit(X_train_resampled, y_train_resampled,\n",
        "                         epochs=50,\n",
        "                         validation_data=(X_test, y_test),\n",
        "                         callbacks=[early_stop],\n",
        "                         batch_size=32)\n",
        "\n",
        "# Evaluate the best model\n",
        "results = best_model.evaluate(X_test, y_test, verbose=0)\n",
        "print(f\"Test Accuracy: {results[1]:.4f}, Test AUC: {results[2]:.4f}\")\n"
      ],
      "metadata": {
        "colab": {
          "base_uri": "https://localhost:8080/"
        },
        "id": "ITE3MtrBb4FI",
        "outputId": "99338861-d506-465d-ced3-c3d06cc726a1"
      },
      "execution_count": 6,
      "outputs": [
        {
          "output_type": "stream",
          "name": "stdout",
          "text": [
            "Trial 90 Complete [00h 00m 44s]\n",
            "val_accuracy: 0.8873147964477539\n",
            "\n",
            "Best val_accuracy So Far: 0.8967052698135376\n",
            "Total elapsed time: 00h 44m 05s\n",
            "\n",
            "Optimal number of units in the first dense layer: 96\n",
            "Optimal dropout rate for the first dense layer: 0.5\n",
            "Optimal number of units in the second dense layer: 112\n",
            "Optimal dropout rate for the second dense layer: 0.5\n",
            "Optimal learning rate: 0.0005\n",
            "\n",
            "Epoch 1/50\n"
          ]
        },
        {
          "output_type": "stream",
          "name": "stderr",
          "text": [
            "/usr/local/lib/python3.10/dist-packages/keras/src/layers/core/dense.py:87: UserWarning: Do not pass an `input_shape`/`input_dim` argument to a layer. When using Sequential models, prefer using an `Input(shape)` object as the first layer in the model instead.\n",
            "  super().__init__(activity_regularizer=activity_regularizer, **kwargs)\n",
            "/usr/local/lib/python3.10/dist-packages/keras/src/layers/activations/leaky_relu.py:41: UserWarning: Argument `alpha` is deprecated. Use `negative_slope` instead.\n",
            "  warnings.warn(\n"
          ]
        },
        {
          "output_type": "stream",
          "name": "stdout",
          "text": [
            "\u001b[1m1599/1599\u001b[0m \u001b[32m━━━━━━━━━━━━━━━━━━━━\u001b[0m\u001b[37m\u001b[0m \u001b[1m7s\u001b[0m 3ms/step - accuracy: 0.5005 - auc_3: 0.5002 - loss: 27.1683 - val_accuracy: 0.8873 - val_auc_3: 0.5813 - val_loss: 0.6342\n",
            "Epoch 2/50\n",
            "\u001b[1m1599/1599\u001b[0m \u001b[32m━━━━━━━━━━━━━━━━━━━━\u001b[0m\u001b[37m\u001b[0m \u001b[1m4s\u001b[0m 2ms/step - accuracy: 0.5052 - auc_3: 0.5039 - loss: 0.9835 - val_accuracy: 0.2501 - val_auc_3: 0.5492 - val_loss: 0.6958\n",
            "Epoch 3/50\n",
            "\u001b[1m1599/1599\u001b[0m \u001b[32m━━━━━━━━━━━━━━━━━━━━\u001b[0m\u001b[37m\u001b[0m \u001b[1m6s\u001b[0m 3ms/step - accuracy: 0.5020 - auc_3: 0.5026 - loss: 0.7649 - val_accuracy: 0.6395 - val_auc_3: 0.5785 - val_loss: 0.6918\n",
            "Epoch 4/50\n",
            "\u001b[1m1599/1599\u001b[0m \u001b[32m━━━━━━━━━━━━━━━━━━━━\u001b[0m\u001b[37m\u001b[0m \u001b[1m5s\u001b[0m 3ms/step - accuracy: 0.5030 - auc_3: 0.5041 - loss: 0.7047 - val_accuracy: 0.8358 - val_auc_3: 0.5676 - val_loss: 0.6868\n",
            "Epoch 5/50\n",
            "\u001b[1m1599/1599\u001b[0m \u001b[32m━━━━━━━━━━━━━━━━━━━━\u001b[0m\u001b[37m\u001b[0m \u001b[1m4s\u001b[0m 2ms/step - accuracy: 0.5094 - auc_3: 0.5136 - loss: 0.6941 - val_accuracy: 0.8592 - val_auc_3: 0.6311 - val_loss: 0.6782\n",
            "Epoch 6/50\n",
            "\u001b[1m1599/1599\u001b[0m \u001b[32m━━━━━━━━━━━━━━━━━━━━\u001b[0m\u001b[37m\u001b[0m \u001b[1m6s\u001b[0m 3ms/step - accuracy: 0.5476 - auc_3: 0.5685 - loss: 0.6847 - val_accuracy: 0.6291 - val_auc_3: 0.6795 - val_loss: 0.6601\n",
            "Test Accuracy: 0.8873, Test AUC: 0.5813\n"
          ]
        }
      ]
    },
    {
      "cell_type": "markdown",
      "source": [
        "# Evaluation Matrics"
      ],
      "metadata": {
        "id": "_dzNuyeHHdth"
      }
    },
    {
      "cell_type": "code",
      "source": [
        "# Evaluate the model on the training data\n",
        "train_results = best_model.evaluate(X_train_resampled, y_train_resampled)\n",
        "train_loss, train_accuracy, train_auc = train_results # unpack the results correctly\n",
        "print(f\"Training Loss: {train_loss}, Training Accuracy: {train_accuracy}, Training AUC: {train_auc}\")\n",
        "\n",
        "# Evaluate the model on the original test data\n",
        "test_results = best_model.evaluate(X_test, y_test)\n",
        "test_loss, test_accuracy, test_auc = test_results # unpack the results correctly\n",
        "print(f\"Test Loss: {test_loss}, Test Accuracy: {test_accuracy}, Test AUC: {test_auc}\")"
      ],
      "metadata": {
        "colab": {
          "base_uri": "https://localhost:8080/"
        },
        "id": "JAL2rIX6pckD",
        "outputId": "6dd26f2b-45f6-4e9f-acd9-971f829f4af1"
      },
      "execution_count": 7,
      "outputs": [
        {
          "output_type": "stream",
          "name": "stdout",
          "text": [
            "\u001b[1m1599/1599\u001b[0m \u001b[32m━━━━━━━━━━━━━━━━━━━━\u001b[0m\u001b[37m\u001b[0m \u001b[1m3s\u001b[0m 2ms/step - accuracy: 0.7859 - auc_3: 0.5860 - loss: 0.6502\n",
            "Training Loss: 0.6950899958610535, Training Accuracy: 0.5, Training AUC: 0.5855958461761475\n",
            "\u001b[1m387/387\u001b[0m \u001b[32m━━━━━━━━━━━━━━━━━━━━\u001b[0m\u001b[37m\u001b[0m \u001b[1m1s\u001b[0m 3ms/step - accuracy: 0.8861 - auc_3: 0.5729 - loss: 0.6345\n",
            "Test Loss: 0.6342491507530212, Test Accuracy: 0.8873147964477539, Test AUC: 0.5813312530517578\n"
          ]
        }
      ]
    },
    {
      "cell_type": "code",
      "source": [
        "from sklearn.metrics import f1_score\n",
        "\n",
        "y_val_pred_probs = best_model.predict(X_test)\n",
        "thresholds = [i * 0.01 for i in range(30, 70)]\n",
        "f1_scores = [f1_score(y_test, (y_val_pred_probs > t).astype(int)) for t in thresholds]\n",
        "optimal_threshold = thresholds[f1_scores.index(max(f1_scores))]\n",
        "print(f\"Optimal Threshold: {optimal_threshold}\")"
      ],
      "metadata": {
        "colab": {
          "base_uri": "https://localhost:8080/"
        },
        "id": "FvBsxOV8pnmW",
        "outputId": "6762ff8c-f17c-42d8-8f72-2da0551902b4"
      },
      "execution_count": 20,
      "outputs": [
        {
          "output_type": "stream",
          "name": "stdout",
          "text": [
            "\u001b[1m387/387\u001b[0m \u001b[32m━━━━━━━━━━━━━━━━━━━━\u001b[0m\u001b[37m\u001b[0m \u001b[1m1s\u001b[0m 1ms/step\n",
            "Optimal Threshold: 0.51\n"
          ]
        }
      ]
    },
    {
      "cell_type": "code",
      "source": [
        "from sklearn.metrics import classification_report, confusion_matrix\n",
        "\n",
        "# Predictions\n",
        "y_pred = (best_model.predict(X_test) > optimal_threshold).astype(int)\n",
        "\n",
        "# Classification report and confusion matrix\n",
        "print(classification_report(y_test, y_pred))\n",
        "print(confusion_matrix(y_test, y_pred))"
      ],
      "metadata": {
        "colab": {
          "base_uri": "https://localhost:8080/"
        },
        "id": "b2jdhQmppquH",
        "outputId": "60b46680-6408-48fa-bd01-fe5a7005a659"
      },
      "execution_count": 21,
      "outputs": [
        {
          "output_type": "stream",
          "name": "stdout",
          "text": [
            "\u001b[1m387/387\u001b[0m \u001b[32m━━━━━━━━━━━━━━━━━━━━\u001b[0m\u001b[37m\u001b[0m \u001b[1m0s\u001b[0m 1ms/step\n",
            "              precision    recall  f1-score   support\n",
            "\n",
            "           0       0.97      0.00      0.01     10961\n",
            "           1       0.11      1.00      0.20      1392\n",
            "\n",
            "    accuracy                           0.12     12353\n",
            "   macro avg       0.54      0.50      0.10     12353\n",
            "weighted avg       0.87      0.12      0.03     12353\n",
            "\n",
            "[[   33 10928]\n",
            " [    1  1391]]\n"
          ]
        }
      ]
    },
    {
      "cell_type": "markdown",
      "source": [
        "# Model Building"
      ],
      "metadata": {
        "id": "i4UME-y_Hiu8"
      }
    },
    {
      "cell_type": "code",
      "source": [
        "# Build the ANN model\n",
        "model = Sequential([\n",
        "    Dense(96, activation='leaky_relu', input_dim=X_train.shape[1]),\n",
        "    Dropout(0.5),\n",
        "    Dense(112, activation='leaky_relu'),\n",
        "    Dropout(0.5),\n",
        "    Dense(1, activation='sigmoid')  # Binary classification\n",
        "])\n",
        "\n",
        "# Compile the model\n",
        "model.compile(optimizer=Adam(learning_rate=0.0005),\n",
        "              loss='binary_crossentropy',\n",
        "              metrics=['accuracy', AUC()])\n",
        "\n",
        "# Train the model\n",
        "history = model.fit(X_train_resampled, y_train_resampled,\n",
        "                    epochs=50,\n",
        "                    batch_size=32,\n",
        "                    validation_data=(X_test, y_test),\n",
        "                    verbose=1)\n",
        "\n",
        "# Evaluate the model\n",
        "results = model.evaluate(X_test, y_test, verbose=0)\n",
        "print(f\"Test Accuracy: {results[1]:.4f}, Test AUC: {results[2]:.4f}\")\n"
      ],
      "metadata": {
        "colab": {
          "base_uri": "https://localhost:8080/"
        },
        "id": "T-hiCP1N1D-U",
        "outputId": "82648afb-c794-4855-9fe7-08187c042e24"
      },
      "execution_count": 8,
      "outputs": [
        {
          "output_type": "stream",
          "name": "stdout",
          "text": [
            "Epoch 1/50\n"
          ]
        },
        {
          "output_type": "stream",
          "name": "stderr",
          "text": [
            "/usr/local/lib/python3.10/dist-packages/keras/src/layers/core/dense.py:87: UserWarning: Do not pass an `input_shape`/`input_dim` argument to a layer. When using Sequential models, prefer using an `Input(shape)` object as the first layer in the model instead.\n",
            "  super().__init__(activity_regularizer=activity_regularizer, **kwargs)\n"
          ]
        },
        {
          "output_type": "stream",
          "name": "stdout",
          "text": [
            "\u001b[1m1599/1599\u001b[0m \u001b[32m━━━━━━━━━━━━━━━━━━━━\u001b[0m\u001b[37m\u001b[0m \u001b[1m6s\u001b[0m 3ms/step - accuracy: 0.6901 - auc: 0.7481 - loss: 0.5873 - val_accuracy: 0.8050 - val_auc: 0.7930 - val_loss: 0.5132\n",
            "Epoch 2/50\n",
            "\u001b[1m1599/1599\u001b[0m \u001b[32m━━━━━━━━━━━━━━━━━━━━\u001b[0m\u001b[37m\u001b[0m \u001b[1m5s\u001b[0m 3ms/step - accuracy: 0.7349 - auc: 0.8003 - loss: 0.5396 - val_accuracy: 0.8196 - val_auc: 0.7911 - val_loss: 0.4872\n",
            "Epoch 3/50\n",
            "\u001b[1m1599/1599\u001b[0m \u001b[32m━━━━━━━━━━━━━━━━━━━━\u001b[0m\u001b[37m\u001b[0m \u001b[1m4s\u001b[0m 2ms/step - accuracy: 0.7437 - auc: 0.8148 - loss: 0.5215 - val_accuracy: 0.8102 - val_auc: 0.7862 - val_loss: 0.5103\n",
            "Epoch 4/50\n",
            "\u001b[1m1599/1599\u001b[0m \u001b[32m━━━━━━━━━━━━━━━━━━━━\u001b[0m\u001b[37m\u001b[0m \u001b[1m4s\u001b[0m 2ms/step - accuracy: 0.7515 - auc: 0.8204 - loss: 0.5149 - val_accuracy: 0.8156 - val_auc: 0.7830 - val_loss: 0.5079\n",
            "Epoch 5/50\n",
            "\u001b[1m1599/1599\u001b[0m \u001b[32m━━━━━━━━━━━━━━━━━━━━\u001b[0m\u001b[37m\u001b[0m \u001b[1m5s\u001b[0m 3ms/step - accuracy: 0.7564 - auc: 0.8276 - loss: 0.5068 - val_accuracy: 0.8208 - val_auc: 0.7831 - val_loss: 0.4847\n",
            "Epoch 6/50\n",
            "\u001b[1m1599/1599\u001b[0m \u001b[32m━━━━━━━━━━━━━━━━━━━━\u001b[0m\u001b[37m\u001b[0m \u001b[1m9s\u001b[0m 2ms/step - accuracy: 0.7568 - auc: 0.8280 - loss: 0.5051 - val_accuracy: 0.8307 - val_auc: 0.7781 - val_loss: 0.4798\n",
            "Epoch 7/50\n",
            "\u001b[1m1599/1599\u001b[0m \u001b[32m━━━━━━━━━━━━━━━━━━━━\u001b[0m\u001b[37m\u001b[0m \u001b[1m5s\u001b[0m 3ms/step - accuracy: 0.7580 - auc: 0.8329 - loss: 0.4987 - val_accuracy: 0.8385 - val_auc: 0.7802 - val_loss: 0.4638\n",
            "Epoch 8/50\n",
            "\u001b[1m1599/1599\u001b[0m \u001b[32m━━━━━━━━━━━━━━━━━━━━\u001b[0m\u001b[37m\u001b[0m \u001b[1m4s\u001b[0m 3ms/step - accuracy: 0.7627 - auc: 0.8374 - loss: 0.4940 - val_accuracy: 0.8298 - val_auc: 0.7822 - val_loss: 0.4654\n",
            "Epoch 9/50\n",
            "\u001b[1m1599/1599\u001b[0m \u001b[32m━━━━━━━━━━━━━━━━━━━━\u001b[0m\u001b[37m\u001b[0m \u001b[1m4s\u001b[0m 2ms/step - accuracy: 0.7606 - auc: 0.8333 - loss: 0.4972 - val_accuracy: 0.8220 - val_auc: 0.7796 - val_loss: 0.4826\n",
            "Epoch 10/50\n",
            "\u001b[1m1599/1599\u001b[0m \u001b[32m━━━━━━━━━━━━━━━━━━━━\u001b[0m\u001b[37m\u001b[0m \u001b[1m6s\u001b[0m 3ms/step - accuracy: 0.7653 - auc: 0.8422 - loss: 0.4859 - val_accuracy: 0.8241 - val_auc: 0.7845 - val_loss: 0.4632\n",
            "Epoch 11/50\n",
            "\u001b[1m1599/1599\u001b[0m \u001b[32m━━━━━━━━━━━━━━━━━━━━\u001b[0m\u001b[37m\u001b[0m \u001b[1m5s\u001b[0m 3ms/step - accuracy: 0.7643 - auc: 0.8393 - loss: 0.4904 - val_accuracy: 0.8230 - val_auc: 0.7809 - val_loss: 0.4733\n",
            "Epoch 12/50\n",
            "\u001b[1m1599/1599\u001b[0m \u001b[32m━━━━━━━━━━━━━━━━━━━━\u001b[0m\u001b[37m\u001b[0m \u001b[1m4s\u001b[0m 2ms/step - accuracy: 0.7655 - auc: 0.8410 - loss: 0.4882 - val_accuracy: 0.8301 - val_auc: 0.7848 - val_loss: 0.4609\n",
            "Epoch 13/50\n",
            "\u001b[1m1599/1599\u001b[0m \u001b[32m━━━━━━━━━━━━━━━━━━━━\u001b[0m\u001b[37m\u001b[0m \u001b[1m6s\u001b[0m 3ms/step - accuracy: 0.7650 - auc: 0.8437 - loss: 0.4835 - val_accuracy: 0.8366 - val_auc: 0.7813 - val_loss: 0.4554\n",
            "Epoch 14/50\n",
            "\u001b[1m1599/1599\u001b[0m \u001b[32m━━━━━━━━━━━━━━━━━━━━\u001b[0m\u001b[37m\u001b[0m \u001b[1m5s\u001b[0m 3ms/step - accuracy: 0.7687 - auc: 0.8470 - loss: 0.4798 - val_accuracy: 0.8120 - val_auc: 0.7789 - val_loss: 0.4866\n",
            "Epoch 15/50\n",
            "\u001b[1m1599/1599\u001b[0m \u001b[32m━━━━━━━━━━━━━━━━━━━━\u001b[0m\u001b[37m\u001b[0m \u001b[1m4s\u001b[0m 2ms/step - accuracy: 0.7701 - auc: 0.8457 - loss: 0.4806 - val_accuracy: 0.8283 - val_auc: 0.7829 - val_loss: 0.4660\n",
            "Epoch 16/50\n",
            "\u001b[1m1599/1599\u001b[0m \u001b[32m━━━━━━━━━━━━━━━━━━━━\u001b[0m\u001b[37m\u001b[0m \u001b[1m5s\u001b[0m 2ms/step - accuracy: 0.7657 - auc: 0.8440 - loss: 0.4818 - val_accuracy: 0.8268 - val_auc: 0.7836 - val_loss: 0.4661\n",
            "Epoch 17/50\n",
            "\u001b[1m1599/1599\u001b[0m \u001b[32m━━━━━━━━━━━━━━━━━━━━\u001b[0m\u001b[37m\u001b[0m \u001b[1m6s\u001b[0m 4ms/step - accuracy: 0.7702 - auc: 0.8470 - loss: 0.4788 - val_accuracy: 0.8263 - val_auc: 0.7820 - val_loss: 0.4605\n",
            "Epoch 18/50\n",
            "\u001b[1m1599/1599\u001b[0m \u001b[32m━━━━━━━━━━━━━━━━━━━━\u001b[0m\u001b[37m\u001b[0m \u001b[1m4s\u001b[0m 2ms/step - accuracy: 0.7733 - auc: 0.8506 - loss: 0.4745 - val_accuracy: 0.8256 - val_auc: 0.7807 - val_loss: 0.4612\n",
            "Epoch 19/50\n",
            "\u001b[1m1599/1599\u001b[0m \u001b[32m━━━━━━━━━━━━━━━━━━━━\u001b[0m\u001b[37m\u001b[0m \u001b[1m4s\u001b[0m 2ms/step - accuracy: 0.7694 - auc: 0.8492 - loss: 0.4748 - val_accuracy: 0.8219 - val_auc: 0.7801 - val_loss: 0.4733\n",
            "Epoch 20/50\n",
            "\u001b[1m1599/1599\u001b[0m \u001b[32m━━━━━━━━━━━━━━━━━━━━\u001b[0m\u001b[37m\u001b[0m \u001b[1m7s\u001b[0m 4ms/step - accuracy: 0.7706 - auc: 0.8492 - loss: 0.4751 - val_accuracy: 0.8129 - val_auc: 0.7800 - val_loss: 0.4800\n",
            "Epoch 21/50\n",
            "\u001b[1m1599/1599\u001b[0m \u001b[32m━━━━━━━━━━━━━━━━━━━━\u001b[0m\u001b[37m\u001b[0m \u001b[1m8s\u001b[0m 2ms/step - accuracy: 0.7702 - auc: 0.8477 - loss: 0.4763 - val_accuracy: 0.8272 - val_auc: 0.7821 - val_loss: 0.4658\n",
            "Epoch 22/50\n",
            "\u001b[1m1599/1599\u001b[0m \u001b[32m━━━━━━━━━━━━━━━━━━━━\u001b[0m\u001b[37m\u001b[0m \u001b[1m5s\u001b[0m 3ms/step - accuracy: 0.7720 - auc: 0.8495 - loss: 0.4738 - val_accuracy: 0.8230 - val_auc: 0.7794 - val_loss: 0.4692\n",
            "Epoch 23/50\n",
            "\u001b[1m1599/1599\u001b[0m \u001b[32m━━━━━━━━━━━━━━━━━━━━\u001b[0m\u001b[37m\u001b[0m \u001b[1m9s\u001b[0m 2ms/step - accuracy: 0.7691 - auc: 0.8513 - loss: 0.4713 - val_accuracy: 0.8246 - val_auc: 0.7826 - val_loss: 0.4577\n",
            "Epoch 24/50\n",
            "\u001b[1m1599/1599\u001b[0m \u001b[32m━━━━━━━━━━━━━━━━━━━━\u001b[0m\u001b[37m\u001b[0m \u001b[1m5s\u001b[0m 3ms/step - accuracy: 0.7719 - auc: 0.8541 - loss: 0.4672 - val_accuracy: 0.8281 - val_auc: 0.7822 - val_loss: 0.4646\n",
            "Epoch 25/50\n",
            "\u001b[1m1599/1599\u001b[0m \u001b[32m━━━━━━━━━━━━━━━━━━━━\u001b[0m\u001b[37m\u001b[0m \u001b[1m4s\u001b[0m 3ms/step - accuracy: 0.7745 - auc: 0.8518 - loss: 0.4720 - val_accuracy: 0.8286 - val_auc: 0.7813 - val_loss: 0.4450\n",
            "Epoch 26/50\n",
            "\u001b[1m1599/1599\u001b[0m \u001b[32m━━━━━━━━━━━━━━━━━━━━\u001b[0m\u001b[37m\u001b[0m \u001b[1m4s\u001b[0m 2ms/step - accuracy: 0.7732 - auc: 0.8510 - loss: 0.4719 - val_accuracy: 0.8126 - val_auc: 0.7814 - val_loss: 0.4780\n",
            "Epoch 27/50\n",
            "\u001b[1m1599/1599\u001b[0m \u001b[32m━━━━━━━━━━━━━━━━━━━━\u001b[0m\u001b[37m\u001b[0m \u001b[1m4s\u001b[0m 3ms/step - accuracy: 0.7733 - auc: 0.8543 - loss: 0.4687 - val_accuracy: 0.8135 - val_auc: 0.7807 - val_loss: 0.4783\n",
            "Epoch 28/50\n",
            "\u001b[1m1599/1599\u001b[0m \u001b[32m━━━━━━━━━━━━━━━━━━━━\u001b[0m\u001b[37m\u001b[0m \u001b[1m5s\u001b[0m 3ms/step - accuracy: 0.7731 - auc: 0.8516 - loss: 0.4727 - val_accuracy: 0.8336 - val_auc: 0.7845 - val_loss: 0.4502\n",
            "Epoch 29/50\n",
            "\u001b[1m1599/1599\u001b[0m \u001b[32m━━━━━━━━━━━━━━━━━━━━\u001b[0m\u001b[37m\u001b[0m \u001b[1m4s\u001b[0m 2ms/step - accuracy: 0.7720 - auc: 0.8533 - loss: 0.4685 - val_accuracy: 0.8192 - val_auc: 0.7803 - val_loss: 0.4770\n",
            "Epoch 30/50\n",
            "\u001b[1m1599/1599\u001b[0m \u001b[32m━━━━━━━━━━━━━━━━━━━━\u001b[0m\u001b[37m\u001b[0m \u001b[1m4s\u001b[0m 2ms/step - accuracy: 0.7731 - auc: 0.8528 - loss: 0.4689 - val_accuracy: 0.8308 - val_auc: 0.7826 - val_loss: 0.4559\n",
            "Epoch 31/50\n",
            "\u001b[1m1599/1599\u001b[0m \u001b[32m━━━━━━━━━━━━━━━━━━━━\u001b[0m\u001b[37m\u001b[0m \u001b[1m7s\u001b[0m 4ms/step - accuracy: 0.7745 - auc: 0.8538 - loss: 0.4666 - val_accuracy: 0.8087 - val_auc: 0.7796 - val_loss: 0.4759\n",
            "Epoch 32/50\n",
            "\u001b[1m1599/1599\u001b[0m \u001b[32m━━━━━━━━━━━━━━━━━━━━\u001b[0m\u001b[37m\u001b[0m \u001b[1m4s\u001b[0m 2ms/step - accuracy: 0.7711 - auc: 0.8505 - loss: 0.4731 - val_accuracy: 0.8323 - val_auc: 0.7794 - val_loss: 0.4393\n",
            "Epoch 33/50\n",
            "\u001b[1m1599/1599\u001b[0m \u001b[32m━━━━━━━━━━━━━━━━━━━━\u001b[0m\u001b[37m\u001b[0m \u001b[1m4s\u001b[0m 2ms/step - accuracy: 0.7734 - auc: 0.8547 - loss: 0.4658 - val_accuracy: 0.8187 - val_auc: 0.7795 - val_loss: 0.4572\n",
            "Epoch 34/50\n",
            "\u001b[1m1599/1599\u001b[0m \u001b[32m━━━━━━━━━━━━━━━━━━━━\u001b[0m\u001b[37m\u001b[0m \u001b[1m7s\u001b[0m 3ms/step - accuracy: 0.7719 - auc: 0.8524 - loss: 0.4696 - val_accuracy: 0.8081 - val_auc: 0.7790 - val_loss: 0.4785\n",
            "Epoch 35/50\n",
            "\u001b[1m1599/1599\u001b[0m \u001b[32m━━━━━━━━━━━━━━━━━━━━\u001b[0m\u001b[37m\u001b[0m \u001b[1m4s\u001b[0m 2ms/step - accuracy: 0.7744 - auc: 0.8540 - loss: 0.4690 - val_accuracy: 0.8355 - val_auc: 0.7782 - val_loss: 0.4422\n",
            "Epoch 36/50\n",
            "\u001b[1m1599/1599\u001b[0m \u001b[32m━━━━━━━━━━━━━━━━━━━━\u001b[0m\u001b[37m\u001b[0m \u001b[1m4s\u001b[0m 2ms/step - accuracy: 0.7748 - auc: 0.8575 - loss: 0.4611 - val_accuracy: 0.8158 - val_auc: 0.7771 - val_loss: 0.4841\n",
            "Epoch 37/50\n",
            "\u001b[1m1599/1599\u001b[0m \u001b[32m━━━━━━━━━━━━━━━━━━━━\u001b[0m\u001b[37m\u001b[0m \u001b[1m6s\u001b[0m 3ms/step - accuracy: 0.7755 - auc: 0.8562 - loss: 0.4656 - val_accuracy: 0.8290 - val_auc: 0.7766 - val_loss: 0.4614\n",
            "Epoch 38/50\n",
            "\u001b[1m1599/1599\u001b[0m \u001b[32m━━━━━━━━━━━━━━━━━━━━\u001b[0m\u001b[37m\u001b[0m \u001b[1m5s\u001b[0m 3ms/step - accuracy: 0.7751 - auc: 0.8547 - loss: 0.4659 - val_accuracy: 0.8266 - val_auc: 0.7764 - val_loss: 0.4646\n",
            "Epoch 39/50\n",
            "\u001b[1m1599/1599\u001b[0m \u001b[32m━━━━━━━━━━━━━━━━━━━━\u001b[0m\u001b[37m\u001b[0m \u001b[1m4s\u001b[0m 2ms/step - accuracy: 0.7771 - auc: 0.8573 - loss: 0.4627 - val_accuracy: 0.8324 - val_auc: 0.7800 - val_loss: 0.4438\n",
            "Epoch 40/50\n",
            "\u001b[1m1599/1599\u001b[0m \u001b[32m━━━━━━━━━━━━━━━━━━━━\u001b[0m\u001b[37m\u001b[0m \u001b[1m6s\u001b[0m 3ms/step - accuracy: 0.7729 - auc: 0.8539 - loss: 0.4679 - val_accuracy: 0.8255 - val_auc: 0.7807 - val_loss: 0.4534\n",
            "Epoch 41/50\n",
            "\u001b[1m1599/1599\u001b[0m \u001b[32m━━━━━━━━━━━━━━━━━━━━\u001b[0m\u001b[37m\u001b[0m \u001b[1m5s\u001b[0m 3ms/step - accuracy: 0.7742 - auc: 0.8533 - loss: 0.4686 - val_accuracy: 0.8203 - val_auc: 0.7819 - val_loss: 0.4666\n",
            "Epoch 42/50\n",
            "\u001b[1m1599/1599\u001b[0m \u001b[32m━━━━━━━━━━━━━━━━━━━━\u001b[0m\u001b[37m\u001b[0m \u001b[1m4s\u001b[0m 2ms/step - accuracy: 0.7743 - auc: 0.8563 - loss: 0.4647 - val_accuracy: 0.8232 - val_auc: 0.7760 - val_loss: 0.4642\n",
            "Epoch 43/50\n",
            "\u001b[1m1599/1599\u001b[0m \u001b[32m━━━━━━━━━━━━━━━━━━━━\u001b[0m\u001b[37m\u001b[0m \u001b[1m6s\u001b[0m 3ms/step - accuracy: 0.7745 - auc: 0.8537 - loss: 0.4691 - val_accuracy: 0.8328 - val_auc: 0.7820 - val_loss: 0.4534\n",
            "Epoch 44/50\n",
            "\u001b[1m1599/1599\u001b[0m \u001b[32m━━━━━━━━━━━━━━━━━━━━\u001b[0m\u001b[37m\u001b[0m \u001b[1m5s\u001b[0m 3ms/step - accuracy: 0.7762 - auc: 0.8567 - loss: 0.4636 - val_accuracy: 0.8247 - val_auc: 0.7800 - val_loss: 0.4704\n",
            "Epoch 45/50\n",
            "\u001b[1m1599/1599\u001b[0m \u001b[32m━━━━━━━━━━━━━━━━━━━━\u001b[0m\u001b[37m\u001b[0m \u001b[1m6s\u001b[0m 3ms/step - accuracy: 0.7727 - auc: 0.8554 - loss: 0.4646 - val_accuracy: 0.8212 - val_auc: 0.7809 - val_loss: 0.4650\n",
            "Epoch 46/50\n",
            "\u001b[1m1599/1599\u001b[0m \u001b[32m━━━━━━━━━━━━━━━━━━━━\u001b[0m\u001b[37m\u001b[0m \u001b[1m9s\u001b[0m 2ms/step - accuracy: 0.7764 - auc: 0.8556 - loss: 0.4642 - val_accuracy: 0.8252 - val_auc: 0.7762 - val_loss: 0.4735\n",
            "Epoch 47/50\n",
            "\u001b[1m1599/1599\u001b[0m \u001b[32m━━━━━━━━━━━━━━━━━━━━\u001b[0m\u001b[37m\u001b[0m \u001b[1m5s\u001b[0m 2ms/step - accuracy: 0.7751 - auc: 0.8563 - loss: 0.4650 - val_accuracy: 0.8263 - val_auc: 0.7787 - val_loss: 0.4571\n",
            "Epoch 48/50\n",
            "\u001b[1m1599/1599\u001b[0m \u001b[32m━━━━━━━━━━━━━━━━━━━━\u001b[0m\u001b[37m\u001b[0m \u001b[1m5s\u001b[0m 3ms/step - accuracy: 0.7731 - auc: 0.8555 - loss: 0.4662 - val_accuracy: 0.8090 - val_auc: 0.7746 - val_loss: 0.4755\n",
            "Epoch 49/50\n",
            "\u001b[1m1599/1599\u001b[0m \u001b[32m━━━━━━━━━━━━━━━━━━━━\u001b[0m\u001b[37m\u001b[0m \u001b[1m4s\u001b[0m 3ms/step - accuracy: 0.7730 - auc: 0.8552 - loss: 0.4654 - val_accuracy: 0.8251 - val_auc: 0.7777 - val_loss: 0.4600\n",
            "Epoch 50/50\n",
            "\u001b[1m1599/1599\u001b[0m \u001b[32m━━━━━━━━━━━━━━━━━━━━\u001b[0m\u001b[37m\u001b[0m \u001b[1m4s\u001b[0m 2ms/step - accuracy: 0.7769 - auc: 0.8577 - loss: 0.4634 - val_accuracy: 0.8024 - val_auc: 0.7776 - val_loss: 0.4891\n",
            "Test Accuracy: 0.8024, Test AUC: 0.7776\n"
          ]
        }
      ]
    },
    {
      "cell_type": "code",
      "source": [
        "model.summary()"
      ],
      "metadata": {
        "colab": {
          "base_uri": "https://localhost:8080/",
          "height": 323
        },
        "id": "Qo6uGdYe6K8n",
        "outputId": "1ac1f4fb-9e81-432c-f0a1-72295dbb236e"
      },
      "execution_count": 9,
      "outputs": [
        {
          "output_type": "display_data",
          "data": {
            "text/plain": [
              "\u001b[1mModel: \"sequential\"\u001b[0m\n"
            ],
            "text/html": [
              "<pre style=\"white-space:pre;overflow-x:auto;line-height:normal;font-family:Menlo,'DejaVu Sans Mono',consolas,'Courier New',monospace\"><span style=\"font-weight: bold\">Model: \"sequential\"</span>\n",
              "</pre>\n"
            ]
          },
          "metadata": {}
        },
        {
          "output_type": "display_data",
          "data": {
            "text/plain": [
              "┏━━━━━━━━━━━━━━━━━━━━━━━━━━━━━━━━━━━━━━┳━━━━━━━━━━━━━━━━━━━━━━━━━━━━━┳━━━━━━━━━━━━━━━━━┓\n",
              "┃\u001b[1m \u001b[0m\u001b[1mLayer (type)                        \u001b[0m\u001b[1m \u001b[0m┃\u001b[1m \u001b[0m\u001b[1mOutput Shape               \u001b[0m\u001b[1m \u001b[0m┃\u001b[1m \u001b[0m\u001b[1m        Param #\u001b[0m\u001b[1m \u001b[0m┃\n",
              "┡━━━━━━━━━━━━━━━━━━━━━━━━━━━━━━━━━━━━━━╇━━━━━━━━━━━━━━━━━━━━━━━━━━━━━╇━━━━━━━━━━━━━━━━━┩\n",
              "│ dense (\u001b[38;5;33mDense\u001b[0m)                        │ (\u001b[38;5;45mNone\u001b[0m, \u001b[38;5;34m96\u001b[0m)                  │           \u001b[38;5;34m3,072\u001b[0m │\n",
              "├──────────────────────────────────────┼─────────────────────────────┼─────────────────┤\n",
              "│ dropout (\u001b[38;5;33mDropout\u001b[0m)                    │ (\u001b[38;5;45mNone\u001b[0m, \u001b[38;5;34m96\u001b[0m)                  │               \u001b[38;5;34m0\u001b[0m │\n",
              "├──────────────────────────────────────┼─────────────────────────────┼─────────────────┤\n",
              "│ dense_1 (\u001b[38;5;33mDense\u001b[0m)                      │ (\u001b[38;5;45mNone\u001b[0m, \u001b[38;5;34m112\u001b[0m)                 │          \u001b[38;5;34m10,864\u001b[0m │\n",
              "├──────────────────────────────────────┼─────────────────────────────┼─────────────────┤\n",
              "│ dropout_1 (\u001b[38;5;33mDropout\u001b[0m)                  │ (\u001b[38;5;45mNone\u001b[0m, \u001b[38;5;34m112\u001b[0m)                 │               \u001b[38;5;34m0\u001b[0m │\n",
              "├──────────────────────────────────────┼─────────────────────────────┼─────────────────┤\n",
              "│ dense_2 (\u001b[38;5;33mDense\u001b[0m)                      │ (\u001b[38;5;45mNone\u001b[0m, \u001b[38;5;34m1\u001b[0m)                   │             \u001b[38;5;34m113\u001b[0m │\n",
              "└──────────────────────────────────────┴─────────────────────────────┴─────────────────┘\n"
            ],
            "text/html": [
              "<pre style=\"white-space:pre;overflow-x:auto;line-height:normal;font-family:Menlo,'DejaVu Sans Mono',consolas,'Courier New',monospace\">┏━━━━━━━━━━━━━━━━━━━━━━━━━━━━━━━━━━━━━━┳━━━━━━━━━━━━━━━━━━━━━━━━━━━━━┳━━━━━━━━━━━━━━━━━┓\n",
              "┃<span style=\"font-weight: bold\"> Layer (type)                         </span>┃<span style=\"font-weight: bold\"> Output Shape                </span>┃<span style=\"font-weight: bold\">         Param # </span>┃\n",
              "┡━━━━━━━━━━━━━━━━━━━━━━━━━━━━━━━━━━━━━━╇━━━━━━━━━━━━━━━━━━━━━━━━━━━━━╇━━━━━━━━━━━━━━━━━┩\n",
              "│ dense (<span style=\"color: #0087ff; text-decoration-color: #0087ff\">Dense</span>)                        │ (<span style=\"color: #00d7ff; text-decoration-color: #00d7ff\">None</span>, <span style=\"color: #00af00; text-decoration-color: #00af00\">96</span>)                  │           <span style=\"color: #00af00; text-decoration-color: #00af00\">3,072</span> │\n",
              "├──────────────────────────────────────┼─────────────────────────────┼─────────────────┤\n",
              "│ dropout (<span style=\"color: #0087ff; text-decoration-color: #0087ff\">Dropout</span>)                    │ (<span style=\"color: #00d7ff; text-decoration-color: #00d7ff\">None</span>, <span style=\"color: #00af00; text-decoration-color: #00af00\">96</span>)                  │               <span style=\"color: #00af00; text-decoration-color: #00af00\">0</span> │\n",
              "├──────────────────────────────────────┼─────────────────────────────┼─────────────────┤\n",
              "│ dense_1 (<span style=\"color: #0087ff; text-decoration-color: #0087ff\">Dense</span>)                      │ (<span style=\"color: #00d7ff; text-decoration-color: #00d7ff\">None</span>, <span style=\"color: #00af00; text-decoration-color: #00af00\">112</span>)                 │          <span style=\"color: #00af00; text-decoration-color: #00af00\">10,864</span> │\n",
              "├──────────────────────────────────────┼─────────────────────────────┼─────────────────┤\n",
              "│ dropout_1 (<span style=\"color: #0087ff; text-decoration-color: #0087ff\">Dropout</span>)                  │ (<span style=\"color: #00d7ff; text-decoration-color: #00d7ff\">None</span>, <span style=\"color: #00af00; text-decoration-color: #00af00\">112</span>)                 │               <span style=\"color: #00af00; text-decoration-color: #00af00\">0</span> │\n",
              "├──────────────────────────────────────┼─────────────────────────────┼─────────────────┤\n",
              "│ dense_2 (<span style=\"color: #0087ff; text-decoration-color: #0087ff\">Dense</span>)                      │ (<span style=\"color: #00d7ff; text-decoration-color: #00d7ff\">None</span>, <span style=\"color: #00af00; text-decoration-color: #00af00\">1</span>)                   │             <span style=\"color: #00af00; text-decoration-color: #00af00\">113</span> │\n",
              "└──────────────────────────────────────┴─────────────────────────────┴─────────────────┘\n",
              "</pre>\n"
            ]
          },
          "metadata": {}
        },
        {
          "output_type": "display_data",
          "data": {
            "text/plain": [
              "\u001b[1m Total params: \u001b[0m\u001b[38;5;34m42,149\u001b[0m (164.65 KB)\n"
            ],
            "text/html": [
              "<pre style=\"white-space:pre;overflow-x:auto;line-height:normal;font-family:Menlo,'DejaVu Sans Mono',consolas,'Courier New',monospace\"><span style=\"font-weight: bold\"> Total params: </span><span style=\"color: #00af00; text-decoration-color: #00af00\">42,149</span> (164.65 KB)\n",
              "</pre>\n"
            ]
          },
          "metadata": {}
        },
        {
          "output_type": "display_data",
          "data": {
            "text/plain": [
              "\u001b[1m Trainable params: \u001b[0m\u001b[38;5;34m14,049\u001b[0m (54.88 KB)\n"
            ],
            "text/html": [
              "<pre style=\"white-space:pre;overflow-x:auto;line-height:normal;font-family:Menlo,'DejaVu Sans Mono',consolas,'Courier New',monospace\"><span style=\"font-weight: bold\"> Trainable params: </span><span style=\"color: #00af00; text-decoration-color: #00af00\">14,049</span> (54.88 KB)\n",
              "</pre>\n"
            ]
          },
          "metadata": {}
        },
        {
          "output_type": "display_data",
          "data": {
            "text/plain": [
              "\u001b[1m Non-trainable params: \u001b[0m\u001b[38;5;34m0\u001b[0m (0.00 B)\n"
            ],
            "text/html": [
              "<pre style=\"white-space:pre;overflow-x:auto;line-height:normal;font-family:Menlo,'DejaVu Sans Mono',consolas,'Courier New',monospace\"><span style=\"font-weight: bold\"> Non-trainable params: </span><span style=\"color: #00af00; text-decoration-color: #00af00\">0</span> (0.00 B)\n",
              "</pre>\n"
            ]
          },
          "metadata": {}
        },
        {
          "output_type": "display_data",
          "data": {
            "text/plain": [
              "\u001b[1m Optimizer params: \u001b[0m\u001b[38;5;34m28,100\u001b[0m (109.77 KB)\n"
            ],
            "text/html": [
              "<pre style=\"white-space:pre;overflow-x:auto;line-height:normal;font-family:Menlo,'DejaVu Sans Mono',consolas,'Courier New',monospace\"><span style=\"font-weight: bold\"> Optimizer params: </span><span style=\"color: #00af00; text-decoration-color: #00af00\">28,100</span> (109.77 KB)\n",
              "</pre>\n"
            ]
          },
          "metadata": {}
        }
      ]
    },
    {
      "cell_type": "markdown",
      "source": [
        "# Evaluation Metrics"
      ],
      "metadata": {
        "id": "-LAxt4q1Hovb"
      }
    },
    {
      "cell_type": "code",
      "source": [
        "# Evaluate the model on the training data\n",
        "train_results = model.evaluate(X_train_resampled, y_train_resampled)\n",
        "train_loss, train_accuracy, train_auc = train_results # unpack the results correctly\n",
        "print(f\"Training Loss: {train_loss}, Training Accuracy: {train_accuracy}, Training AUC: {train_auc}\")\n",
        "\n",
        "# Evaluate the model on the original test data\n",
        "test_results = model.evaluate(X_test, y_test)\n",
        "test_loss, test_accuracy, test_auc = test_results # unpack the results correctly\n",
        "print(f\"Test Loss: {test_loss}, Test Accuracy: {test_accuracy}, Test AUC: {test_auc}\")"
      ],
      "metadata": {
        "colab": {
          "base_uri": "https://localhost:8080/"
        },
        "id": "yZx-iCpp19bT",
        "outputId": "c5e0042e-07c7-4abf-d33b-c2566cdd6cf3"
      },
      "execution_count": 10,
      "outputs": [
        {
          "output_type": "stream",
          "name": "stdout",
          "text": [
            "\u001b[1m1599/1599\u001b[0m \u001b[32m━━━━━━━━━━━━━━━━━━━━\u001b[0m\u001b[37m\u001b[0m \u001b[1m3s\u001b[0m 2ms/step - accuracy: 0.7997 - auc: 0.8229 - loss: 0.4699\n",
            "Training Loss: 0.4399823844432831, Training Accuracy: 0.7884930968284607, Training AUC: 0.8739427328109741\n",
            "\u001b[1m387/387\u001b[0m \u001b[32m━━━━━━━━━━━━━━━━━━━━\u001b[0m\u001b[37m\u001b[0m \u001b[1m1s\u001b[0m 1ms/step - accuracy: 0.7996 - auc: 0.7682 - loss: 0.4922\n",
            "Test Loss: 0.4890683889389038, Test Accuracy: 0.8023961782455444, Test AUC: 0.7776312232017517\n"
          ]
        }
      ]
    },
    {
      "cell_type": "code",
      "source": [
        "# Predictions\n",
        "y_pred = (model.predict(X_test) > 0.5).astype(int)\n",
        "y_train_pred = (model.predict(X_train_resampled) > 0.5).astype(int)\n",
        "\n",
        "print(classification_report(y_train_resampled, y_train_pred))\n",
        "print(classification_report(y_test, y_pred))\n",
        "print(confusion_matrix(y_test, y_pred))"
      ],
      "metadata": {
        "colab": {
          "base_uri": "https://localhost:8080/"
        },
        "id": "XlPdWo_7SKeM",
        "outputId": "50b1b0a1-d4a3-43dd-c75e-ac9b3ae39411"
      },
      "execution_count": 20,
      "outputs": [
        {
          "output_type": "stream",
          "name": "stdout",
          "text": [
            "\u001b[1m387/387\u001b[0m \u001b[32m━━━━━━━━━━━━━━━━━━━━\u001b[0m\u001b[37m\u001b[0m \u001b[1m1s\u001b[0m 2ms/step\n",
            "\u001b[1m1599/1599\u001b[0m \u001b[32m━━━━━━━━━━━━━━━━━━━━\u001b[0m\u001b[37m\u001b[0m \u001b[1m2s\u001b[0m 1ms/step\n",
            "              precision    recall  f1-score   support\n",
            "\n",
            "           0       0.77      0.83      0.80     25576\n",
            "           1       0.81      0.75      0.78     25576\n",
            "\n",
            "    accuracy                           0.79     51152\n",
            "   macro avg       0.79      0.79      0.79     51152\n",
            "weighted avg       0.79      0.79      0.79     51152\n",
            "\n",
            "              precision    recall  f1-score   support\n",
            "\n",
            "           0       0.94      0.83      0.88     10961\n",
            "           1       0.31      0.62      0.41      1392\n",
            "\n",
            "    accuracy                           0.80     12353\n",
            "   macro avg       0.63      0.72      0.65     12353\n",
            "weighted avg       0.87      0.80      0.83     12353\n",
            "\n",
            "[[9051 1910]\n",
            " [ 531  861]]\n"
          ]
        }
      ]
    },
    {
      "cell_type": "code",
      "source": [
        "\n",
        "# Confusion Matrix\n",
        "conf_matrix = confusion_matrix(y_test, y_pred)\n",
        "\n",
        "plt.figure(figsize=(8, 6))\n",
        "sns.heatmap(conf_matrix, annot=True, fmt='d', cmap='Blues', xticklabels=[\"Class 0\", \"Class 1\"], yticklabels=[\"Class 0\", \"Class 1\"])\n",
        "plt.title(\"Confusion Matrix\")\n",
        "plt.xlabel(\"Predicted\")\n",
        "plt.ylabel(\"Actual\")\n",
        "plt.show()"
      ],
      "metadata": {
        "colab": {
          "base_uri": "https://localhost:8080/",
          "height": 564
        },
        "id": "E9ZxnTw50CqL",
        "outputId": "4d12b682-3ad0-4c65-b699-bd3503983bb5"
      },
      "execution_count": 21,
      "outputs": [
        {
          "output_type": "display_data",
          "data": {
            "text/plain": [
              "<Figure size 800x600 with 2 Axes>"
            ],
            "image/png": "[encoded data removed]"
          },
          "metadata": {}
        }
      ]
    },
    {
      "cell_type": "code",
      "source": [
        "\n",
        "\n",
        "y_val_pred_probs = model.predict(X_test)\n",
        "thresholds = [i * 0.01 for i in range(30, 70)]\n",
        "f1_scores = [f1_score(y_test, (y_val_pred_probs > t).astype(int)) for t in thresholds]\n",
        "optimal_threshold = thresholds[f1_scores.index(max(f1_scores))]\n",
        "print(f\"Optimal Threshold: {optimal_threshold}\")"
      ],
      "metadata": {
        "colab": {
          "base_uri": "https://localhost:8080/"
        },
        "id": "r32zlyEd2yu3",
        "outputId": "b81e76ef-c850-470f-fe9b-d4d74a70f97e"
      },
      "execution_count": 22,
      "outputs": [
        {
          "output_type": "stream",
          "name": "stdout",
          "text": [
            "\u001b[1m387/387\u001b[0m \u001b[32m━━━━━━━━━━━━━━━━━━━━\u001b[0m\u001b[37m\u001b[0m \u001b[1m1s\u001b[0m 1ms/step\n",
            "Optimal Threshold: 0.64\n"
          ]
        }
      ]
    },
    {
      "cell_type": "code",
      "source": [
        "\n",
        "# Predictions\n",
        "y_pred = (model.predict(X_test) > optimal_threshold).astype(int)\n",
        "y_train_pred = (model.predict(X_train_resampled) > optimal_threshold).astype(int)\n",
        "\n",
        "# Classification report and confusion matrix\n",
        "print(classification_report(y_train_resampled, y_train_pred))\n",
        "print(classification_report(y_test, y_pred))\n",
        "print(confusion_matrix(y_test, y_pred))\n"
      ],
      "metadata": {
        "colab": {
          "base_uri": "https://localhost:8080/"
        },
        "id": "-XGqA_6InZdm",
        "outputId": "ccab5170-134c-4863-a117-e0714be79b6b"
      },
      "execution_count": 23,
      "outputs": [
        {
          "output_type": "stream",
          "name": "stdout",
          "text": [
            "\u001b[1m387/387\u001b[0m \u001b[32m━━━━━━━━━━━━━━━━━━━━\u001b[0m\u001b[37m\u001b[0m \u001b[1m0s\u001b[0m 1ms/step\n",
            "\u001b[1m1599/1599\u001b[0m \u001b[32m━━━━━━━━━━━━━━━━━━━━\u001b[0m\u001b[37m\u001b[0m \u001b[1m2s\u001b[0m 1ms/step\n",
            "              precision    recall  f1-score   support\n",
            "\n",
            "           0       0.72      0.91      0.81     25576\n",
            "           1       0.88      0.65      0.75     25576\n",
            "\n",
            "    accuracy                           0.78     51152\n",
            "   macro avg       0.80      0.78      0.78     51152\n",
            "weighted avg       0.80      0.78      0.78     51152\n",
            "\n",
            "              precision    recall  f1-score   support\n",
            "\n",
            "           0       0.94      0.91      0.92     10961\n",
            "           1       0.41      0.51      0.45      1392\n",
            "\n",
            "    accuracy                           0.86     12353\n",
            "   macro avg       0.67      0.71      0.69     12353\n",
            "weighted avg       0.88      0.86      0.87     12353\n",
            "\n",
            "[[9960 1001]\n",
            " [ 688  704]]\n"
          ]
        }
      ]
    }
  ]
}